{
 "cells": [
  {
   "cell_type": "code",
   "execution_count": 1,
   "metadata": {},
   "outputs": [],
   "source": [
    "import os\n",
    "import pandas as pd\n",
    "import numpy as np\n",
    "import seaborn as sns\n",
    "from matplotlib import pyplot as plt\n",
    "import matplotlib\n",
    "\n",
    "import random\n",
    "from sklearn.metrics import confusion_matrix\n",
    "from sklearn.metrics import f1_score\n",
    "\n",
    "import torch\n",
    "import torch.optim as optim\n",
    "from torch import nn\n",
    "from torch.utils.data import DataLoader\n",
    "from sklearn.metrics import confusion_matrix\n",
    "from sklearn.metrics import f1_score"
   ]
  },
  {
   "cell_type": "code",
   "execution_count": 2,
   "metadata": {},
   "outputs": [],
   "source": [
    "os.chdir('C:\\\\Users\\\\Nevena\\\\Desktop\\\\LSDM project\\\\Data\\\\train')\n",
    "lifetime=pd.read_csv('lifetime.csv',header=0,index_col=0)\n",
    "lifetime_features=pd.read_csv('lifetime_features.csv',header=0,index_col=0)\n",
    "size=pd.read_csv('size.csv',header=0,index_col=0)\n",
    "spectrum=pd.read_csv('spectrum.csv',header=0,index_col=0)\n",
    "labels=pd.read_csv('train_labels.csv',header=0,index_col=0)\n",
    "scattering=pd.read_csv('scattering.csv',header=0,index_col=0)"
   ]
  },
  {
   "cell_type": "markdown",
   "metadata": {},
   "source": [
    "# Transformisanje podataka  u pogodan oblik"
   ]
  },
  {
   "cell_type": "code",
   "execution_count": 3,
   "metadata": {},
   "outputs": [],
   "source": [
    "lifetime_features_transformed=np.array(lifetime_features)"
   ]
  },
  {
   "cell_type": "code",
   "execution_count": 4,
   "metadata": {},
   "outputs": [],
   "source": [
    "scattering_transformed = [np.array(scattering.iloc[i, :]).reshape(20, 120) for i in range(scattering.shape[0])]\n",
    "spectrum_transformed = [np.array(spectrum.iloc[i, :]).reshape(4, 32) for i in range(spectrum.shape[0])]\n",
    "lifetime_transformed = [np.array(lifetime.iloc[i, :]).reshape(4, 24) for i in range(lifetime.shape[0])]"
   ]
  },
  {
   "cell_type": "code",
   "execution_count": 5,
   "metadata": {},
   "outputs": [],
   "source": [
    "indices1 = np.array(range(scattering.shape[0]))\n",
    "\n",
    "random.seed(0)\n",
    "random.shuffle(indices1)\n",
    "\n",
    "new_scattering = [scattering_transformed[i] for i in indices1]\n",
    "\n",
    "new_spectrum = [spectrum_transformed[i] for i in indices1]\n",
    "\n",
    "new_lifetime = [lifetime_transformed[i] for i in indices1]\n",
    "\n",
    "new_labels = [labels['Pollen'][i] for i in indices1]\n",
    "\n",
    "new_lifetime_features= [lifetime_features_transformed[i] for i in indices1]\n",
    "\n",
    "new_size = [size['size'][i]for i in indices1]\n",
    "\n"
   ]
  },
  {
   "cell_type": "code",
   "execution_count": 6,
   "metadata": {},
   "outputs": [],
   "source": [
    "index = int(np.round(0.8 * len(scattering)))\n",
    "\n",
    "train1 = new_scattering[:index]\n",
    "val1 = new_scattering[index:]\n",
    "\n",
    "train2 = new_spectrum[:index]\n",
    "val2 = new_spectrum[index:]\n",
    "\n",
    "train3 = new_lifetime[:index]\n",
    "val3 = new_lifetime[index:]\n",
    "\n",
    "train_size = new_size[:index]\n",
    "val_size = new_size[index:]\n",
    "\n",
    "train_lf_f = new_lifetime_features[:index]\n",
    "val_lf_f = new_lifetime_features[index:]\n",
    "\n",
    "train_labels = new_labels[:index]\n",
    "val_labels = new_labels[index:]"
   ]
  },
  {
   "cell_type": "code",
   "execution_count": 7,
   "metadata": {},
   "outputs": [],
   "source": [
    "def create_tensor(data):\n",
    "\n",
    "    dimension = len(data[0].shape)\n",
    "    if dimension == 1:\n",
    "        tensor = torch.Tensor(data)\n",
    "    elif dimension == 0:\n",
    "        tensor = torch.Tensor(data).unsqueeze_(0).permute(1, 0)\n",
    "    else:\n",
    "        tensor = torch.Tensor(data).unsqueeze_(0).permute(1, 0, 2, 3)\n",
    "\n",
    "    return tensor"
   ]
  },
  {
   "cell_type": "code",
   "execution_count": 8,
   "metadata": {},
   "outputs": [
    {
     "name": "stderr",
     "output_type": "stream",
     "text": [
      "C:\\Users\\Nevena\\Anaconda3\\lib\\site-packages\\ipykernel_launcher.py:9: UserWarning: Creating a tensor from a list of numpy.ndarrays is extremely slow. Please consider converting the list to a single numpy.ndarray with numpy.array() before converting to a tensor. (Triggered internally at  C:\\cb\\pytorch_1000000000000\\work\\torch\\csrc\\utils\\tensor_new.cpp:210.)\n",
      "  if __name__ == '__main__':\n"
     ]
    }
   ],
   "source": [
    "train_tensor1 = create_tensor(train1)\n",
    "train_tensor2 = create_tensor(train2)\n",
    "train_tensor3 = create_tensor(train3)\n",
    "\n",
    "val_tensor1 = create_tensor(val1)\n",
    "val_tensor2 = create_tensor(val2)\n",
    "val_tensor3 = create_tensor(val3)"
   ]
  },
  {
   "cell_type": "markdown",
   "metadata": {},
   "source": [
    "# Definisanje dataloadera"
   ]
  },
  {
   "cell_type": "code",
   "execution_count": 9,
   "metadata": {},
   "outputs": [],
   "source": [
    "train_list1 = [[train_tensor1[i], train_labels[i]] for i in range(train_tensor1.shape[0])]\n",
    "train_list2 = [[train_tensor2[i], train_labels[i]] for i in range(train_tensor2.shape[0])]\n",
    "train_list3 = [[train_tensor3[i], train_labels[i]] for i in range(train_tensor3.shape[0])]\n",
    "\n",
    "val_list1 = [[val_tensor1[i], val_labels[i]] for i in range(val_tensor1.shape[0])]\n",
    "val_list2 = [[val_tensor2[i], val_labels[i]] for i in range(val_tensor2.shape[0])]\n",
    "val_list3 = [[val_tensor3[i], val_labels[i]] for i in range(val_tensor3.shape[0])]\n",
    "\n",
    "trainloader1 = DataLoader(\n",
    "    dataset = train_list1, \n",
    "    batch_size = 600,\n",
    "    shuffle = False,\n",
    "    num_workers = 0,\n",
    "    pin_memory = False\n",
    ")\n",
    "trainloader2 = DataLoader(\n",
    "    dataset = train_list2, \n",
    "    batch_size = 600,\n",
    "    shuffle = False,\n",
    "    num_workers = 0,\n",
    "    pin_memory = False\n",
    ")\n",
    "trainloader3 = DataLoader(\n",
    "    dataset = train_list3, \n",
    "    batch_size = 600,\n",
    "    shuffle = False,\n",
    "    num_workers = 0,\n",
    "    pin_memory = False\n",
    ")\n",
    "valloader1 = DataLoader(\n",
    "    dataset = val_list1, \n",
    "    batch_size = 600,\n",
    "    shuffle = False,\n",
    "    num_workers = 0,\n",
    "    pin_memory = False\n",
    ")\n",
    "valloader2 = DataLoader(\n",
    "    dataset = val_list2, \n",
    "    batch_size = 600,\n",
    "    shuffle = False,\n",
    "    num_workers = 0,\n",
    "    pin_memory = False\n",
    ")\n",
    "valloader3 = DataLoader(\n",
    "    dataset = val_list3, \n",
    "    batch_size = 600,\n",
    "    shuffle = False,\n",
    "    num_workers = 0,\n",
    "    pin_memory = False\n",
    ")"
   ]
  },
  {
   "cell_type": "markdown",
   "metadata": {},
   "source": [
    "# Definisanje modela"
   ]
  },
  {
   "cell_type": "code",
   "execution_count": 10,
   "metadata": {},
   "outputs": [],
   "source": [
    "#valja, ali hoću bolje\n",
    "class Net(nn.Module):\n",
    "    def __init__(self):\n",
    "        super(Net, self).__init__()\n",
    "        \n",
    "        self.scat_conv = nn.Sequential(\n",
    "            nn.BatchNorm2d(1), nn.Conv2d(1, 10, 5), nn.MaxPool2d(2), nn.ReLU(),\n",
    "            nn.BatchNorm2d(10), nn.Conv2d(10, 20, 3), nn.MaxPool2d(2), nn.Dropout2d(), nn.ReLU()\n",
    "        )\n",
    "        self.spec_conv = nn.Sequential(\n",
    "            nn.BatchNorm2d(1), nn.Conv2d(1, 50, (1, 5)), nn.ReLU(),\n",
    "            nn.BatchNorm2d(50), nn.Conv2d(50, 100, 3), nn.Dropout2d(), nn.ReLU()\n",
    "        )\n",
    "        self.liti1_conv = nn.Sequential(\n",
    "            nn.BatchNorm2d(1), nn.Conv2d(1, 70, (1, 7)), nn.ReLU(),\n",
    "            nn.BatchNorm2d(70), nn.Conv2d(70, 140, (1, 5)), nn.ReLU(),\n",
    "            nn.BatchNorm2d(140), nn.Conv2d(140, 200, 3), nn.Dropout2d(), nn.ReLU()\n",
    "        )\n",
    "        self.scat_fc = nn.Sequential(nn.Linear(1680, 100), nn.ReLU(), nn.Dropout2d())\n",
    "        self.spec_fc = nn.Sequential(nn.Linear(5200, 100), nn.ReLU(), nn.Dropout2d())\n",
    "        self.liti1_fc = nn.Sequential(nn.Linear(4800, 100), nn.ReLU(), nn.Dropout2d())\n",
    "        self.final_fc = nn.Sequential(nn.Linear(300, 12), nn.LogSoftmax(dim=1))\n",
    "\n",
    "    def forward(self, data):\n",
    "        x1 = self.scat_conv(data[0])\n",
    "        x2 = self.spec_conv(data[1])\n",
    "        x3 = self.liti1_conv(data[2])\n",
    "\n",
    "        x1 = torch.flatten(x1, 1)\n",
    "        x2 = torch.flatten(x2, 1)\n",
    "        x3 = torch.flatten(x3, 1)\n",
    "\n",
    "        x1 = self.scat_fc(x1)\n",
    "        x2 = self.spec_fc(x2)\n",
    "        x3 = self.liti1_fc(x3)\n",
    "\n",
    "        x = torch.cat((x1, x2, x3), 1)\n",
    "\n",
    "        return self.final_fc(x)\n",
    "model_tri = Net()"
   ]
  },
  {
   "cell_type": "markdown",
   "metadata": {},
   "source": [
    "# Definisanje parametara"
   ]
  },
  {
   "cell_type": "code",
   "execution_count": 11,
   "metadata": {},
   "outputs": [],
   "source": [
    "#hyperparameter tuning"
   ]
  },
  {
   "cell_type": "code",
   "execution_count": 12,
   "metadata": {},
   "outputs": [],
   "source": [
    "all_train_losses, all_val_losses, epoch_list = [], [], [-1]\n",
    "plot_every = 2\n",
    "\n",
    "def plot_losses(epoch_list, train_losses, val_losses):\n",
    "    plt.figure(figsize=(10, 8))\n",
    "    plt.plot(epoch_list, train_losses)\n",
    "    plt.plot(epoch_list, val_losses)\n",
    "    plt.xlabel(\"Epoch number\")\n",
    "    plt.ylabel(\"Cost\")\n",
    "    plt.legend([\"Train\", \"Validation\"], fontsize=20)\n",
    "    matplotlib.rcParams.update({'font.size': 20})\n",
    "    plt.show()"
   ]
  },
  {
   "cell_type": "code",
   "execution_count": 13,
   "metadata": {},
   "outputs": [],
   "source": [
    "#menjam optimizer sa 0.001 na 0.01\n",
    "optimizer = optim.SGD(model_tri.parameters(), lr=0.01, momentum=0.9)\n",
    "#loss_fn = nn.CrossEntropyLoss()\n",
    "loss_fn = nn.NLLLoss()"
   ]
  },
  {
   "cell_type": "code",
   "execution_count": null,
   "metadata": {},
   "outputs": [],
   "source": [
    "from functools import partial\n",
    "import torch\n",
    "import torch.nn as nn\n",
    "import torch.nn.functional as F\n",
    "import torch.optim as optim\n",
    "from torch.utils.data import random_split\n",
    "import torchvision\n",
    "import torchvision.transforms as transforms\n",
    "from ray import tune\n",
    "from ray.tune import CLIReporter\n",
    "from ray.tune.schedulers import ASHAScheduler"
   ]
  },
  {
   "cell_type": "code",
   "execution_count": null,
   "metadata": {},
   "outputs": [],
   "source": [
    "#def train_cifar(config, checkpoint_dir=None, data_dir=None):\n",
    "\n",
    "def train_cifar(config,checkpoint_dir=None):\n",
    "    net = Net()\n",
    "\n",
    "    device = \"cpu\"\n",
    "    if torch.cuda.is_available():\n",
    "        device = \"cuda:0\"\n",
    "        if torch.cuda.device_count() > 1:\n",
    "            net = nn.DataParallel(net)\n",
    "    net.to(device)\n",
    "\n",
    "    criterion = nn.CrossEntropyLoss()\n",
    "    optimizer = optim.SGD(net.parameters(), lr=config[\"lr\"], momentum=0.9)\n",
    "\n",
    "\n",
    "    trainloader11 = torch.utils.data.DataLoader(\n",
    "        train_list1,\n",
    "        batch_size=int(config[\"batch_size\"]),\n",
    "        shuffle=True,\n",
    "        num_workers=8)\n",
    "    trainloader22 = torch.utils.data.DataLoader(\n",
    "        train_list2,\n",
    "        batch_size=int(config[\"batch_size\"]),\n",
    "        shuffle=True,\n",
    "        num_workers=8)\n",
    "    trainloader33 = torch.utils.data.DataLoader(\n",
    "        train_list1,\n",
    "        batch_size=int(config[\"batch_size\"]),\n",
    "        shuffle=True,\n",
    "        num_workers=8)\n",
    "    valloader11 = torch.utils.data.DataLoader(\n",
    "        val_list1,\n",
    "        batch_size=int(config[\"batch_size\"]),\n",
    "        shuffle=True,\n",
    "        num_workers=8)\n",
    "    \n",
    "    valloader22 = torch.utils.data.DataLoader(\n",
    "        val_list2,\n",
    "        batch_size=int(config[\"batch_size\"]),\n",
    "        shuffle=True,\n",
    "        num_workers=8)\n",
    "    \n",
    "    valloader33 = torch.utils.data.DataLoader(\n",
    "        val_list3,\n",
    "        batch_size=int(config[\"batch_size\"]),\n",
    "        shuffle=True,\n",
    "        num_workers=8)\n",
    "\n",
    "    for epoch in range(10):  # loop over the dataset multiple times\n",
    "        running_loss = 0.0\n",
    "        epoch_steps = 0\n",
    "        for batch_idx, (data1, data2, data3) in enumerate(zip(trainloader11, trainloader22, trainloader33)):\n",
    "            # get the inputs; data is a list of [inputs, labels]\n",
    "            inputs = [data1[0],data2[0],data3[0]]\n",
    "            labels = data[1]\n",
    "            inputs, labels = inputs.to(device), labels.to(device)\n",
    "            \n",
    "            # zero the parameter gradients\n",
    "            optimizer.zero_grad()\n",
    "\n",
    "            # forward + backward + optimize\n",
    "            outputs = net(inputs)\n",
    "            loss = criterion(outputs, labels)\n",
    "            loss.backward()\n",
    "            optimizer.step()\n",
    "\n",
    "            # print statistics\n",
    "            running_loss += loss.item()\n",
    "            epoch_steps += 1\n",
    "            if i % 2000 == 1999:  # print every 2000 mini-batches\n",
    "                print(\"[%d, %5d] loss: %.3f\" % (epoch + 1, i + 1,\n",
    "                                                running_loss / epoch_steps))\n",
    "                running_loss = 0.0\n",
    "\n",
    "        # Validation loss\n",
    "        val_loss = 0.0\n",
    "        val_steps = 0\n",
    "        total = 0\n",
    "        correct = 0\n",
    "        for batch_idx, (data1, data2, data3) in enumerate(zip(valloader1,valloader2,valloader3)):\n",
    "            with torch.no_grad():\n",
    "                inputs = [data1[0],data2[0],data3[0]]\n",
    "                labels = data[1]\n",
    "                inputs, labels = inputs.to(device), labels.to(device)\n",
    "                \n",
    "                outputs = net(inputs)\n",
    "                _, predicted = torch.max(outputs.data, 1)\n",
    "                total += labels.size(0)\n",
    "                correct += (predicted == labels).sum().item()\n",
    "\n",
    "                loss = criterion(outputs, labels)\n",
    "                val_loss += loss.cpu().numpy()\n",
    "                val_steps += 1\n",
    "\n",
    "        with tune.checkpoint_dir(epoch) as checkpoint_dir:\n",
    "            path = os.path.join(checkpoint_dir, \"checkpoint\")\n",
    "            torch.save((net.state_dict(), optimizer.state_dict()), path)\n",
    "\n",
    "        tune.report(loss=(val_loss / val_steps), accuracy=correct / total)\n",
    "    print(\"Finished Training\")"
   ]
  },
  {
   "cell_type": "code",
   "execution_count": null,
   "metadata": {},
   "outputs": [],
   "source": [
    "def main(num_samples=10, max_num_epochs=10, gpus_per_trial=2):\n",
    "    #data_dir = os.path.abspath(\"./data\")\n",
    "    #load_data(data_dir)\n",
    "    config = {\n",
    "        \"lr\": tune.loguniform(1e-4, 1e-1),\n",
    "        \"batch_size\": tune.choice([200, 400, 600, 100])\n",
    "    }\n",
    "    scheduler = ASHAScheduler(\n",
    "        metric=\"loss\",\n",
    "        mode=\"min\",\n",
    "        max_t=max_num_epochs,\n",
    "        grace_period=1,\n",
    "        reduction_factor=2)\n",
    "    reporter = CLIReporter(\n",
    "        # parameter_columns=[\"l1\", \"l2\", \"lr\", \"batch_size\"],\n",
    "        metric_columns=[\"loss\", \"accuracy\", \"training_iteration\"])\n",
    "    result = tune.run(\n",
    "        partial(train_cifar),\n",
    "        resources_per_trial={\"cpu\": 2, \"gpu\": gpus_per_trial},\n",
    "        config=config,\n",
    "        num_samples=num_samples,\n",
    "        scheduler=scheduler,\n",
    "        progress_reporter=reporter)\n",
    "\n",
    "    best_trial = result.get_best_trial(\"loss\", \"min\", \"last\")\n",
    "    print(\"Best trial config: {}\".format(best_trial.config))\n",
    "    print(\"Best trial final validation loss: {}\".format(\n",
    "        best_trial.last_result[\"loss\"]))\n",
    "    print(\"Best trial final validation accuracy: {}\".format(\n",
    "        best_trial.last_result[\"accuracy\"]))\n",
    "\n",
    "    #best_trained_model = Net(best_trial.config[\"l1\"], best_trial.config[\"l2\"])\n",
    "    device = \"cpu\"\n",
    "    if torch.cuda.is_available():\n",
    "        device = \"cuda:0\"\n",
    "        if gpus_per_trial > 1:\n",
    "            best_trained_model = nn.DataParallel(best_trained_model)\n",
    "    best_trained_model.to(device)\n",
    "\n",
    "    best_checkpoint_dir = best_trial.checkpoint.value\n",
    "    model_state, optimizer_state = torch.load(os.path.join(\n",
    "        best_checkpoint_dir, \"checkpoint\"))\n",
    "    best_trained_model.load_state_dict(model_state)\n",
    "\n",
    "    test_acc = test_accuracy(best_trained_model, device)\n",
    "    print(\"Best trial test set accuracy: {}\".format(test_acc))"
   ]
  },
  {
   "cell_type": "code",
   "execution_count": null,
   "metadata": {},
   "outputs": [],
   "source": [
    "main(num_samples=5, max_num_epochs=5, gpus_per_trial=0)"
   ]
  },
  {
   "cell_type": "markdown",
   "metadata": {},
   "source": [
    "# Treniranje modela"
   ]
  },
  {
   "cell_type": "code",
   "execution_count": 31,
   "metadata": {},
   "outputs": [
    {
     "name": "stdout",
     "output_type": "stream",
     "text": [
      "Epoch 51: Train[********] Validation[**]  Training Loss = 1.4879695, Validation Loss = 1.3404958\n",
      "Epoch 52: Train[********] Validation[**]  Training Loss = 1.4433174, Validation Loss = 1.3234613\n"
     ]
    },
    {
     "data": {
      "image/png": "[encoded data removed]",
      "text/plain": [
       "<Figure size 720x576 with 1 Axes>"
      ]
     },
     "metadata": {
      "needs_background": "light"
     },
     "output_type": "display_data"
    },
    {
     "name": "stdout",
     "output_type": "stream",
     "text": [
      "Epoch 53: Train["
     ]
    },
    {
     "name": "stderr",
     "output_type": "stream",
     "text": [
      "C:\\Users\\Nevena\\Anaconda3\\lib\\site-packages\\torch\\nn\\functional.py:1320: UserWarning: dropout2d: Received a 2-D input to dropout2d, which is deprecated and will result in an error in a future release. To retain the behavior and silence this warning, please use dropout instead. Note that dropout2d exists to provide channel-wise dropout on inputs with 2 spatial dimensions, a channel dimension, and an optional batch dimension (i.e. 3D or 4D inputs).\n",
      "  warnings.warn(warn_msg)\n"
     ]
    },
    {
     "name": "stdout",
     "output_type": "stream",
     "text": [
      "*******Training stopped by user.\n"
     ]
    }
   ],
   "source": [
    "try:\n",
    "    while True:\n",
    "        print(\"Epoch \" + str(epoch_list[-1] + 1) + \": Train[\", end=\"\")\n",
    "        train_losses, val_losses = [], []\n",
    "        \n",
    "        model_tri.train()\n",
    "        for batch_idx, (data1, data2, data3) in enumerate(zip(trainloader1, trainloader2, trainloader3)):\n",
    "            \n",
    "            samples1 = [data1[0],data2[0],data3[0]]\n",
    "            labels = data1[1]\n",
    "            \n",
    "            optimizer.zero_grad()\n",
    "            model_out = model_tri(samples1)\n",
    "            loss = loss_fn(model_out, labels)\n",
    "            loss.backward()\n",
    "            optimizer.step()\n",
    "            train_losses.append(loss.data.numpy())\n",
    "            \n",
    "            print(\"*\", end=\"\")\n",
    "        print(\"] Validation[\", end=\"\")\n",
    "\n",
    "        model_tri.eval()\n",
    "        for batch_idx, (data1, data2, data3) in enumerate(zip(valloader1,valloader2,valloader3)):\n",
    "            \n",
    "            samples = [data1[0],data2[0],data3[0]]\n",
    "            labels = data1[1]\n",
    "\n",
    "            model_output = model_tri(samples)\n",
    "            loss = loss_fn(model_output, labels)\n",
    "            val_losses.append(loss.data.numpy())\n",
    "\n",
    "            print(\"*\", end=\"\")\n",
    "        print(\"] \", end=\"\")\n",
    "\n",
    "        epoch_list.append(epoch_list[-1] + 1)\n",
    "        all_train_losses.append(np.mean(train_losses))\n",
    "        all_val_losses.append(np.mean(val_losses))\n",
    "        print(\" Training Loss = %a, Validation Loss = %a\" % (all_train_losses[-1], all_val_losses[-1]))\n",
    "\n",
    "        if epoch_list[-1] % plot_every == 0 and len(epoch_list) > 2:\n",
    "            plot_losses(epoch_list[1:], all_train_losses, all_val_losses)\n",
    "        \n",
    "except KeyboardInterrupt:\n",
    "    print(\"Training stopped by user.\") "
   ]
  },
  {
   "cell_type": "code",
   "execution_count": 32,
   "metadata": {},
   "outputs": [
    {
     "name": "stdout",
     "output_type": "stream",
     "text": [
      "F1 score:  0.5927927648867918\n",
      "Confusion matrix: \n",
      "[[58  4  4 12  1  7  1  2  4  4  4  0]\n",
      " [ 3 59  2 10  2  3 18  1  0  4  6  0]\n",
      " [ 0  2 57  2  7 12  0  3  3  6  1  1]\n",
      " [ 2  7  1 64  3  4  4  0  2  9  9  0]\n",
      " [ 1  1  3  2 72  3  5  0  0  1  2  2]\n",
      " [ 3  2 19  6  4 39  3  3  2 18  3  1]\n",
      " [ 0  8  3  4  3  1 73  1  1  5  1  5]\n",
      " [ 0  5  6  0  1  0  0 62  1 16  3  1]\n",
      " [ 2  9  1  7  0  3  2  5 44 13 15  1]\n",
      " [ 0  5  2  3  5  2  1  4  1 52  9  0]\n",
      " [ 0 14  0 13  2  2  2  4 10  9 33  1]\n",
      " [ 1  0  2  0  2  3  1  8  0  9  0 95]]\n"
     ]
    }
   ],
   "source": [
    "model_tri.eval()\n",
    "#torch.save(model.state_dict(), path_to_save)\n",
    "\n",
    "model_tri.cpu()\n",
    "outputs = model_tri([val_tensor1,val_tensor2,val_tensor3])\n",
    "_, predicted = torch.max(outputs.data, 1)\n",
    "\n",
    "cm = confusion_matrix(val_labels, predicted.numpy())\n",
    "f1 = f1_score(val_labels, predicted.numpy(), average=\"weighted\")\n",
    "\n",
    "print('F1 score: ', f1)\n",
    "print('Confusion matrix: ')\n",
    "print(cm)"
   ]
  },
  {
   "cell_type": "markdown",
   "metadata": {},
   "source": [
    "# Ucitavanje test direktorijuma"
   ]
  },
  {
   "cell_type": "code",
   "execution_count": 18,
   "metadata": {},
   "outputs": [],
   "source": [
    "os.chdir('C:\\\\Users\\\\Nevena\\\\Desktop\\\\LSDM project\\\\Data\\\\test')\n",
    "scattering_test=pd.read_csv('scattering.csv',header=0,index_col=0,na_values='?')\n",
    "scattering_test_transformed = [np.array(scattering_test.iloc[i, :]).reshape(20, 120) for i in range(scattering_test.shape[0])]\n",
    "sc_test_transf_np= np.array(scattering_test_transformed)"
   ]
  },
  {
   "cell_type": "code",
   "execution_count": 19,
   "metadata": {},
   "outputs": [],
   "source": [
    "test_tensor1 = create_tensor(sc_test_transf_np)"
   ]
  },
  {
   "cell_type": "code",
   "execution_count": 20,
   "metadata": {},
   "outputs": [],
   "source": [
    "spectrum_test=pd.read_csv('spectrum.csv',header=0,index_col=0)\n",
    "lifetime_test=pd.read_csv('lifetime.csv',header=0,index_col=0)\n",
    "\n",
    "spectrum_test_transformed = [np.array(spectrum_test.iloc[i, :]).reshape(4, 32) for i in range(spectrum_test.shape[0])]\n",
    "lifetime_test_transformed = [np.array(lifetime_test.iloc[i, :]).reshape(4, 24) for i in range(lifetime_test.shape[0])]\n",
    "\n",
    "spectrum_test_transf_np= np.array(spectrum_test_transformed)\n",
    "lifetime_test_transf_np = np.array(lifetime_test_transformed)\n",
    "\n",
    "test_tensor2=create_tensor(spectrum_test_transf_np)\n",
    "test_tensor3=create_tensor(lifetime_test_transf_np)"
   ]
  },
  {
   "cell_type": "markdown",
   "metadata": {},
   "source": [
    "# Cuvanje modela"
   ]
  },
  {
   "cell_type": "code",
   "execution_count": 33,
   "metadata": {},
   "outputs": [],
   "source": [
    "model_tri.cpu()\n",
    "outputs = model_tri([test_tensor1,test_tensor2,test_tensor3])\n",
    "values,predicted = torch.max(outputs.data, 1)"
   ]
  },
  {
   "cell_type": "code",
   "execution_count": 34,
   "metadata": {},
   "outputs": [
    {
     "data": {
      "text/plain": [
       "tensor([9, 9, 0,  ..., 9, 9, 4])"
      ]
     },
     "execution_count": 34,
     "metadata": {},
     "output_type": "execute_result"
    }
   ],
   "source": [
    "predicted"
   ]
  },
  {
   "cell_type": "code",
   "execution_count": 35,
   "metadata": {},
   "outputs": [],
   "source": [
    "np_arr = outputs.cpu().detach().numpy()"
   ]
  },
  {
   "cell_type": "code",
   "execution_count": 36,
   "metadata": {},
   "outputs": [],
   "source": [
    "import math\n",
    "predicted_labels=[]\n",
    "for i in np_arr:\n",
    "    maximum=max(i)\n",
    "    for j in range(len(i)):\n",
    "        if(i[j]==maximum):\n",
    "            predicted_labels.append(j)\n",
    "pred_lab=np.array(predicted_labels)"
   ]
  },
  {
   "cell_type": "code",
   "execution_count": 37,
   "metadata": {},
   "outputs": [
    {
     "data": {
      "text/plain": [
       "array([9, 9, 0, ..., 9, 9, 4])"
      ]
     },
     "execution_count": 37,
     "metadata": {},
     "output_type": "execute_result"
    }
   ],
   "source": [
    "pred_lab"
   ]
  },
  {
   "cell_type": "code",
   "execution_count": null,
   "metadata": {},
   "outputs": [],
   "source": []
  },
  {
   "cell_type": "code",
   "execution_count": 38,
   "metadata": {},
   "outputs": [],
   "source": [
    "df = pd.DataFrame(pred_lab, columns=['Pollen'])\n",
    "df.to_csv('predict_concat6002.csv')"
   ]
  },
  {
   "cell_type": "code",
   "execution_count": 39,
   "metadata": {},
   "outputs": [],
   "source": [
    "datat=pd.read_csv('predict_concat6002.csv')\n",
    "datat.rename(columns = {'Unnamed: 0':'ID'}, inplace = True)"
   ]
  },
  {
   "cell_type": "code",
   "execution_count": 40,
   "metadata": {},
   "outputs": [],
   "source": [
    "datat.to_csv('predict_concat6002.csv', index=False)"
   ]
  },
  {
   "cell_type": "code",
   "execution_count": 41,
   "metadata": {},
   "outputs": [],
   "source": [
    "dff=pd.read_csv('predict_concat6002.csv')"
   ]
  },
  {
   "cell_type": "code",
   "execution_count": 42,
   "metadata": {},
   "outputs": [
    {
     "data": {
      "text/html": [
       "<div>\n",
       "<style scoped>\n",
       "    .dataframe tbody tr th:only-of-type {\n",
       "        vertical-align: middle;\n",
       "    }\n",
       "\n",
       "    .dataframe tbody tr th {\n",
       "        vertical-align: top;\n",
       "    }\n",
       "\n",
       "    .dataframe thead th {\n",
       "        text-align: right;\n",
       "    }\n",
       "</style>\n",
       "<table border=\"1\" class=\"dataframe\">\n",
       "  <thead>\n",
       "    <tr style=\"text-align: right;\">\n",
       "      <th></th>\n",
       "      <th>ID</th>\n",
       "      <th>Pollen</th>\n",
       "    </tr>\n",
       "  </thead>\n",
       "  <tbody>\n",
       "    <tr>\n",
       "      <td>0</td>\n",
       "      <td>0</td>\n",
       "      <td>9</td>\n",
       "    </tr>\n",
       "    <tr>\n",
       "      <td>1</td>\n",
       "      <td>1</td>\n",
       "      <td>9</td>\n",
       "    </tr>\n",
       "    <tr>\n",
       "      <td>2</td>\n",
       "      <td>2</td>\n",
       "      <td>0</td>\n",
       "    </tr>\n",
       "    <tr>\n",
       "      <td>3</td>\n",
       "      <td>3</td>\n",
       "      <td>10</td>\n",
       "    </tr>\n",
       "    <tr>\n",
       "      <td>4</td>\n",
       "      <td>4</td>\n",
       "      <td>6</td>\n",
       "    </tr>\n",
       "    <tr>\n",
       "      <td>...</td>\n",
       "      <td>...</td>\n",
       "      <td>...</td>\n",
       "    </tr>\n",
       "    <tr>\n",
       "      <td>3861</td>\n",
       "      <td>3861</td>\n",
       "      <td>11</td>\n",
       "    </tr>\n",
       "    <tr>\n",
       "      <td>3862</td>\n",
       "      <td>3862</td>\n",
       "      <td>5</td>\n",
       "    </tr>\n",
       "    <tr>\n",
       "      <td>3863</td>\n",
       "      <td>3863</td>\n",
       "      <td>9</td>\n",
       "    </tr>\n",
       "    <tr>\n",
       "      <td>3864</td>\n",
       "      <td>3864</td>\n",
       "      <td>9</td>\n",
       "    </tr>\n",
       "    <tr>\n",
       "      <td>3865</td>\n",
       "      <td>3865</td>\n",
       "      <td>4</td>\n",
       "    </tr>\n",
       "  </tbody>\n",
       "</table>\n",
       "<p>3866 rows × 2 columns</p>\n",
       "</div>"
      ],
      "text/plain": [
       "        ID  Pollen\n",
       "0        0       9\n",
       "1        1       9\n",
       "2        2       0\n",
       "3        3      10\n",
       "4        4       6\n",
       "...    ...     ...\n",
       "3861  3861      11\n",
       "3862  3862       5\n",
       "3863  3863       9\n",
       "3864  3864       9\n",
       "3865  3865       4\n",
       "\n",
       "[3866 rows x 2 columns]"
      ]
     },
     "execution_count": 42,
     "metadata": {},
     "output_type": "execute_result"
    }
   ],
   "source": [
    "dff"
   ]
  },
  {
   "cell_type": "code",
   "execution_count": null,
   "metadata": {},
   "outputs": [],
   "source": [
    "dff1=pd.read_csv('predict_concat4.csv')"
   ]
  },
  {
   "cell_type": "code",
   "execution_count": null,
   "metadata": {},
   "outputs": [],
   "source": [
    "raz=0\n",
    "for i in range(len(pred_lab)):\n",
    "    if(dff1[\"Pollen\"][i]!=dff[\"Pollen\"][i]):\n",
    "        raz=raz+1\n",
    "print(raz)\n",
    "#predict_concat2 je u epohi 53 zaustavljena"
   ]
  },
  {
   "cell_type": "code",
   "execution_count": null,
   "metadata": {},
   "outputs": [],
   "source": [
    "dff[\"Pollen\"][0]"
   ]
  },
  {
   "cell_type": "code",
   "execution_count": null,
   "metadata": {},
   "outputs": [],
   "source": []
  }
 ],
 "metadata": {
  "kernelspec": {
   "display_name": "Python 3",
   "language": "python",
   "name": "python3"
  },
  "language_info": {
   "codemirror_mode": {
    "name": "ipython",
    "version": 3
   },
   "file_extension": ".py",
   "mimetype": "text/x-python",
   "name": "python",
   "nbconvert_exporter": "python",
   "pygments_lexer": "ipython3",
   "version": "3.7.4"
  }
 },
 "nbformat": 4,
 "nbformat_minor": 2
}
